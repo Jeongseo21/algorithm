{
 "cells": [
  {
   "cell_type": "code",
   "execution_count": null,
   "metadata": {},
   "outputs": [],
   "source": [
    "def solve(n, x, y):\n",
    "    global result\n",
    "    if n == 2:\n",
    "        if x == X and y == Y:\n",
    "            print(result)\n",
    "            return\n",
    "        result += 1\n",
    "        if x == X and y == Y:\n",
    "            print(result)\n",
    "            return\n",
    "        result += 1\n",
    "        if x == X and y == Y:\n",
    "            print(result)\n",
    "            return\n",
    "        result += 1\n",
    "        if x == X and y == Y:\n",
    "            print(result)\n",
    "            return\n",
    "        result += 1\n",
    "        return\n",
    "    solve(n/2, x, y)\n",
    "    solve(n/2, x, y+n/2)\n",
    "    solve(n/2, x+n/2, y)\n",
    "    solve(n/2, x+n/2, y+n/2)\n",
    "\n",
    "result = 0\n",
    "N, X, Y = map(int, input().split())\n",
    "solve(2**N, 0, 0)\n",
    "\n"
   ]
  }
 ],
 "metadata": {
  "kernelspec": {
   "display_name": "Python 3",
   "language": "python",
   "name": "python3"
  },
  "language_info": {
   "codemirror_mode": {
    "name": "ipython",
    "version": 3
   },
   "file_extension": ".py",
   "mimetype": "text/x-python",
   "name": "python",
   "nbconvert_exporter": "python",
   "pygments_lexer": "ipython3",
   "version": "3.7.6"
  }
 },
 "nbformat": 4,
 "nbformat_minor": 4
}
