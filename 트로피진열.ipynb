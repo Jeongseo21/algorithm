{
 "cells": [
  {
   "cell_type": "code",
   "execution_count": 5,
   "metadata": {},
   "outputs": [
    {
     "name": "stdout",
     "output_type": "stream",
     "text": [
      "5\n",
      "2\n",
      "4\n",
      "6\n",
      "3\n",
      "1\n",
      "3\n",
      "3\n"
     ]
    }
   ],
   "source": [
    "def ascending(array):\n",
    "    now = array[0]\n",
    "    result = 1\n",
    "    for i in range(1,len(array)):\n",
    "        if now <array[i]:\n",
    "            result += 1\n",
    "            now = array[i]\n",
    "    return result\n",
    "\n",
    "\n",
    "n = int(input())\n",
    "array = []\n",
    "\n",
    "for _ in range(n):\n",
    "    array.append(int(input()))\n",
    "\n",
    "print(ascending(array))\n",
    "\n",
    "array.reverse()\n",
    "print(ascending(array))\n",
    "\n"
   ]
  }
 ],
 "metadata": {
  "kernelspec": {
   "display_name": "Python 3",
   "language": "python",
   "name": "python3"
  },
  "language_info": {
   "codemirror_mode": {
    "name": "ipython",
    "version": 3
   },
   "file_extension": ".py",
   "mimetype": "text/x-python",
   "name": "python",
   "nbconvert_exporter": "python",
   "pygments_lexer": "ipython3",
   "version": "3.7.6"
  }
 },
 "nbformat": 4,
 "nbformat_minor": 4
}
