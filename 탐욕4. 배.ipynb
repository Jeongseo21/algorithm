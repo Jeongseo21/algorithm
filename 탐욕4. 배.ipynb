{
 "cells": [
  {
   "cell_type": "code",
   "execution_count": null,
   "metadata": {},
   "outputs": [],
   "source": [
    "import sys\n",
    "\n",
    "n = int(input())\n",
    "cranes = list(map(int, input().split()))\n",
    "m = int(input())\n",
    "boxes = list(map(int, input().split()))\n",
    "\n",
    "#옮기지 못하는 박스가 있는 경우\n",
    "if max(cranes)<max(boxes):\n",
    "    print(-1)\n",
    "    sys.exit()\n",
    "#각 크레인이 현재 옮겨야하는 박스의 번호\n",
    "positions = [0]*n\n",
    "# 각 박스를 옮겼는지의 여부\n",
    "checked = [False]*m\n",
    "\n",
    "cranes.sort(reverse=True)\n",
    "boxes.sort(reverse=True)\n",
    "\n",
    "result = 0\n",
    "count = 0\n",
    "#매 분마다 수행되는 알고리즘\n",
    "while True:\n",
    "    if count == len(boxes):\n",
    "        break\n",
    "    for i in range(n):\n",
    "        while position[i] < len(boxes):\n",
    "            #아직 옮겨지지 않은 박스 중 자기가 옮길 수 있는 것이 있다면\n",
    "            if not checked[position[i]] and cranes[i] >= boxes[positions[i]]:\n",
    "                checked[positions[i]] = True\n",
    "                positions[i] += 1\n",
    "                count += 1\n",
    "                break\n",
    "            positions[i] += 1\n",
    "    result += 1\n",
    "print(result)\n"
   ]
  }
 ],
 "metadata": {
  "kernelspec": {
   "display_name": "Python 3",
   "language": "python",
   "name": "python3"
  },
  "language_info": {
   "codemirror_mode": {
    "name": "ipython",
    "version": 3
   },
   "file_extension": ".py",
   "mimetype": "text/x-python",
   "name": "python",
   "nbconvert_exporter": "python",
   "pygments_lexer": "ipython3",
   "version": "3.7.6"
  }
 },
 "nbformat": 4,
 "nbformat_minor": 4
}
