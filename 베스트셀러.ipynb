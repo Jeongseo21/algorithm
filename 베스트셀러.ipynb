{
 "cells": [
  {
   "cell_type": "code",
   "execution_count": null,
   "metadata": {},
   "outputs": [],
   "source": []
  },
  {
   "cell_type": "code",
   "execution_count": 9,
   "metadata": {},
   "outputs": [
    {
     "name": "stdout",
     "output_type": "stream",
     "text": [
      "5\n",
      "apple\n",
      "apple\n",
      "banana\n",
      "banana\n",
      "d\n",
      "apple\n"
     ]
    }
   ],
   "source": [
    "n = int(input())\n",
    "books = dict()\n",
    "\n",
    "for _ in range(n):\n",
    "    title = input()\n",
    "    if title not in books:\n",
    "        books[title] = 1\n",
    "    else:\n",
    "        books[title] += 1\n",
    "\n",
    "target = max(books.values())\n",
    "array = []\n",
    "\n",
    "for title, number in books.items():\n",
    "    if number == target:\n",
    "        array.append(title)\n",
    "        \n",
    "print(sorted(array)[0])\n",
    "    "
   ]
  }
 ],
 "metadata": {
  "kernelspec": {
   "display_name": "Python 3",
   "language": "python",
   "name": "python3"
  },
  "language_info": {
   "codemirror_mode": {
    "name": "ipython",
    "version": 3
   },
   "file_extension": ".py",
   "mimetype": "text/x-python",
   "name": "python",
   "nbconvert_exporter": "python",
   "pygments_lexer": "ipython3",
   "version": "3.7.6"
  }
 },
 "nbformat": 4,
 "nbformat_minor": 4
}
