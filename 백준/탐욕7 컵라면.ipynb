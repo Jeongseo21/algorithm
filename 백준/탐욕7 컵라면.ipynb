{
 "cells": [
  {
   "cell_type": "code",
   "execution_count": 1,
   "metadata": {},
   "outputs": [
    {
     "name": "stdout",
     "output_type": "stream",
     "text": [
      "7\n",
      "1 6\n",
      "2 4\n",
      "3 1\n",
      "6 1\n",
      "1 7\n",
      "2 5\n",
      "3 2\n",
      "15\n"
     ]
    }
   ],
   "source": [
    "# 이것도 우선순위 큐\n",
    "import heapq\n",
    "\n",
    "n = int(input())\n",
    "array = []\n",
    "q = []\n",
    "\n",
    "#문제 정보를 입력받은 이후에 데드라인을 기준으로 정렬\n",
    "for i in range(n):\n",
    "    a, b = map(int, input().split())\n",
    "    array.append((a,b))\n",
    "array.sort()\n",
    "\n",
    "for i in array:\n",
    "    a = i[0]\n",
    "    heapq.heappush(q, i[1])\n",
    "    #데드라인을 초과하는 경우에는 최소원소를 제거\n",
    "    if a < len(q):\n",
    "        heapq.heappop(q)\n",
    "print(sum(q))"
   ]
  }
 ],
 "metadata": {
  "kernelspec": {
   "display_name": "Python 3",
   "language": "python",
   "name": "python3"
  },
  "language_info": {
   "codemirror_mode": {
    "name": "ipython",
    "version": 3
   },
   "file_extension": ".py",
   "mimetype": "text/x-python",
   "name": "python",
   "nbconvert_exporter": "python",
   "pygments_lexer": "ipython3",
   "version": "3.7.6"
  }
 },
 "nbformat": 4,
 "nbformat_minor": 4
}
