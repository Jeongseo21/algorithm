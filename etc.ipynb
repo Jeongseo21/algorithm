{
 "cells": [
  {
   "cell_type": "code",
   "execution_count": 3,
   "metadata": {},
   "outputs": [
    {
     "name": "stdout",
     "output_type": "stream",
     "text": [
      "\n",
      "\n",
      "0\n"
     ]
    }
   ],
   "source": [
    "document = input()\n",
    "word = input()\n",
    "index = 0\n",
    "result = 0\n",
    "\n",
    "while len(document)>(index+len(word)):\n",
    "    if document[index:index+len(word)] == word:\n",
    "        index += len(word)\n",
    "        result += 1\n",
    "    else:\n",
    "        index += 1\n",
    "print(result)"
   ]
  },
  {
   "cell_type": "code",
   "execution_count": 11,
   "metadata": {},
   "outputs": [
    {
     "name": "stdout",
     "output_type": "stream",
     "text": [
      "5\n",
      "1\n",
      "2\n",
      "3\n",
      "4\n",
      "5\n",
      "5\n",
      "1\n"
     ]
    }
   ],
   "source": [
    "def ascending(array):\n",
    "    std = 0\n",
    "    answer = 1\n",
    "    \n",
    "    for _ in range(len(array)-1):\n",
    "        if array[0]<array[1]:\n",
    "            std = array[1]\n",
    "            answer += 1\n",
    "    return answer\n",
    "\n",
    "num = int(input())\n",
    "array = []\n",
    "\n",
    "for _ in range(num):\n",
    "    array.append(int(input()))\n",
    "answer = ascending(array)\n",
    "print(answer)\n",
    "\n",
    "array.reverse()\n",
    "print(ascending(array))\n",
    "    \n"
   ]
  },
  {
   "cell_type": "code",
   "execution_count": 1,
   "metadata": {},
   "outputs": [
    {
     "name": "stdout",
     "output_type": "stream",
     "text": [
      "380\n",
      "4\n"
     ]
    }
   ],
   "source": [
    "changes = 1000-int(input())\n",
    "count = 0\n",
    "\n",
    "for i in [500,100,50,10,5,1]:\n",
    "    count += changes//i\n",
    "    changes %= i\n",
    "print(count)"
   ]
  },
  {
   "cell_type": "code",
   "execution_count": 9,
   "metadata": {},
   "outputs": [
    {
     "name": "stdout",
     "output_type": "stream",
     "text": [
      "101010101010000001\n",
      "6\n"
     ]
    }
   ],
   "source": [
    "data = input()\n",
    "count0 = 0\n",
    "count1 = 0\n",
    "\n",
    "if data[0] == '1':\n",
    "    count0 += 1\n",
    "else:\n",
    "    count1 += 1\n",
    "\n",
    "for i in range(len(data)-1):\n",
    "    if data[i] != data[i+1]:\n",
    "        if data[i+1] == '1':\n",
    "            count0 += 1\n",
    "        else:\n",
    "            count1 += 1\n",
    "print(min(count0,count1))"
   ]
  },
  {
   "cell_type": "code",
   "execution_count": 12,
   "metadata": {},
   "outputs": [
    {
     "name": "stdout",
     "output_type": "stream",
     "text": [
      "5\n",
      "1\n",
      "5\n",
      "3\n",
      "1\n",
      "2\n",
      "3\n"
     ]
    }
   ],
   "source": [
    "n = int(input())\n",
    "array = []\n",
    "count = 0\n",
    "\n",
    "for _ in range(n):\n",
    "    array.append(int(input()))\n",
    "array.sort()\n",
    "\n",
    "for i in range(1, len(array)+1):\n",
    "    count += abs(i - array[i-1])\n",
    "print(count)\n",
    "        "
   ]
  },
  {
   "cell_type": "code",
   "execution_count": 13,
   "metadata": {},
   "outputs": [
    {
     "name": "stdout",
     "output_type": "stream",
     "text": [
      "3\n",
      "6 7 8\n",
      "6\n",
      "3 4 5 6 7 8\n",
      "[6, 7, 8]\n",
      "[3, 4, 5, 6, 7, 8]\n"
     ]
    }
   ],
   "source": [
    "import sys\n",
    "\n",
    "n = int(input())\n",
    "cranes = list(map(int, input().split()))\n",
    "m = int(input())\n",
    "boxes = list(map(int, input().split()))\n",
    "\n",
    "if max(cranes)<max(boxes):\n",
    "    print(-1)\n",
    "    sys.exit()\n",
    "\n",
    "    positions = [0]*n\n",
    "    checked = [False]*m\n",
    "    \n",
    "    cranes.sort(reverse=True)\n",
    "    boxes.sort(reverse=True)\n",
    "    \n",
    "    result = 0\n",
    "    count = 0\n",
    "    \n",
    "    if count == len(boxes):\n",
    "        break\n",
    "    for i in range(n):\n",
    "        while positions[i] < len(boxes):\n",
    "            if not checked[positions[i]] and cranes[i] >= boxes[positions[i]]:\n",
    "                checked[]"
   ]
  }
 ],
 "metadata": {
  "kernelspec": {
   "display_name": "Python 3",
   "language": "python",
   "name": "python3"
  },
  "language_info": {
   "codemirror_mode": {
    "name": "ipython",
    "version": 3
   },
   "file_extension": ".py",
   "mimetype": "text/x-python",
   "name": "python",
   "nbconvert_exporter": "python",
   "pygments_lexer": "ipython3",
   "version": "3.7.6"
  }
 },
 "nbformat": 4,
 "nbformat_minor": 4
}
