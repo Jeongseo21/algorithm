{
 "cells": [
  {
   "cell_type": "code",
   "execution_count": null,
   "metadata": {},
   "outputs": [],
   "source": [
    "#우선순위큐 사용\n",
    "\n",
    "import heapq\n",
    "\n",
    "n,m = map(int, input().split())\n",
    "array = list(map(int, input().split()))\n",
    "positive = []\n",
    "negative = []\n",
    "\n",
    "largest = max(max(array), - min(array))\n",
    "\n",
    "for i in array:\n",
    "    if i > 0:\n",
    "        heapq.heappush(positive, -i)\n",
    "    else:\n",
    "        heapq.heappush(negative, i)\n",
    "result = 0\n",
    "while positive:\n",
    "    result += heapq.heappop(positive)\n",
    "    for _ in range(m - 1):\n",
    "        if positive:\n",
    "            heapq.heappop(positive)\n",
    "while negative:\n",
    "    result += heapq.heappop(negative)\n",
    "    for _ in range(m - 1):\n",
    "        if negative:\n",
    "            heapq.heappop(negative)\n",
    "print(-result * 2 - largest)\n",
    "\n"
   ]
  }
 ],
 "metadata": {
  "kernelspec": {
   "display_name": "Python 3",
   "language": "python",
   "name": "python3"
  },
  "language_info": {
   "codemirror_mode": {
    "name": "ipython",
    "version": 3
   },
   "file_extension": ".py",
   "mimetype": "text/x-python",
   "name": "python",
   "nbconvert_exporter": "python",
   "pygments_lexer": "ipython3",
   "version": "3.7.6"
  }
 },
 "nbformat": 4,
 "nbformat_minor": 4
}
