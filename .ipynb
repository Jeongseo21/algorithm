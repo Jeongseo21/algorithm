{
 "cells": [
  {
   "cell_type": "code",
   "execution_count": null,
   "metadata": {},
   "outputs": [],
   "source": [
    "n = int(input())\n",
    "array = list()\n",
    "\n",
    "for _ in range(n):\n",
    "    array.append(int(input()))\n",
    "    \n",
    "for i in range(n):\n",
    "    min_index = i\n",
    "    for j in range(i+1, n):\n",
    "        if array[min_index]>array[j]:\n",
    "            min_index = j\n",
    "    array[i], arr[min_index] = array[min_index], array[i]\n",
    "for i in array:\n",
    "    print(i)\n"
   ]
  },
  {
   "cell_type": "code",
   "execution_count": null,
   "metadata": {},
   "outputs": [],
   "source": [
    "n = int(input())\n",
    "arr = list()\n",
    "\n",
    "for _ in range(n):\n",
    "    arr.append(int(input()))\n",
    "arr.sort()\n",
    "\n",
    "for i in arr:\n",
    "    print(i)\n",
    "    "
   ]
  },
  {
   "cell_type": "code",
   "execution_count": 10,
   "metadata": {},
   "outputs": [
    {
     "name": "stdout",
     "output_type": "stream",
     "text": [
      "345245\n",
      "554432"
     ]
    }
   ],
   "source": [
    "array = input()\n",
    "for i in range(9,-1,-1):\n",
    "    for j in array:\n",
    "        if int(j) == i:\n",
    "            print(i, end='')\n",
    "    "
   ]
  }
 ],
 "metadata": {
  "kernelspec": {
   "display_name": "Python 3",
   "language": "python",
   "name": "python3"
  }
 },
 "nbformat": 4,
 "nbformat_minor": 4
}
