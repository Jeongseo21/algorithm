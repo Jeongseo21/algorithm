{
 "cells": [
  {
   "cell_type": "code",
   "execution_count": null,
   "metadata": {},
   "outputs": [],
   "source": [
    "\n",
    "n = int(input())\n",
    "k = int(input())\n",
    "\n",
    "#집중국의 개수가 n이상일 때\n",
    "if k>=n:\n",
    "    print(0)\n",
    "    sys.exit()\n",
    "#모든 센서의 위치를 입력받아 오름차순으로 정렬\n",
    "array = list(map(int, input().split()))\n",
    "array.sort()\n",
    "\n",
    "#각 센서간의 거리를 계산해서 내림차순으로 정렬\n",
    "distances = []\n",
    "for i in range(1, n):\n",
    "    distances.append(array[i]-array[i-1])\n",
    "distances.sort(reverse=True)\n",
    "\n",
    "#가장 긴 거리부터 하나씩 제외\n",
    "for i in range(k-1):\n",
    "    distances[i] = 0\n",
    "print(sum(distances))\n",
    "\n"
   ]
  }
 ],
 "metadata": {
  "kernelspec": {
   "display_name": "Python 3",
   "language": "python",
   "name": "python3"
  },
  "language_info": {
   "codemirror_mode": {
    "name": "ipython",
    "version": 3
   },
   "file_extension": ".py",
   "mimetype": "text/x-python",
   "name": "python",
   "nbconvert_exporter": "python",
   "pygments_lexer": "ipython3",
   "version": "3.7.6"
  }
 },
 "nbformat": 4,
 "nbformat_minor": 4
}
