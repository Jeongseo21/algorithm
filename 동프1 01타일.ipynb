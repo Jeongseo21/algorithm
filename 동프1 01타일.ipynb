{
 "cells": [
  {
   "cell_type": "code",
   "execution_count": null,
   "metadata": {},
   "outputs": [],
   "source": [
    "#01타일\n",
    "# 동적프로그래밍은 반드시 점화식을 먼저 구해야한다.\n",
    "# D[3]=3 D[4]=5 \n",
    "# D[i] = D[i-1]+D[i-2] 라는 점화식을 구할 수 있다.\n",
    "# 즉, 앞의 피보나치 수열과 동일한 문제임\n",
    "\n",
    "dp = [0] * 1000001\n",
    "dp[1] = 1\n",
    "dp[2] = 2\n",
    "\n",
    "for i in range(3, n+1):\n",
    "    dp[i] = (dp[i-2] + dp[i-1])%15746\n",
    "    \n",
    "print(dp[n])\n"
   ]
  }
 ],
 "metadata": {
  "kernelspec": {
   "display_name": "Python 3",
   "language": "python",
   "name": "python3"
  },
  "language_info": {
   "codemirror_mode": {
    "name": "ipython",
    "version": 3
   },
   "file_extension": ".py",
   "mimetype": "text/x-python",
   "name": "python",
   "nbconvert_exporter": "python",
   "pygments_lexer": "ipython3",
   "version": "3.7.6"
  }
 },
 "nbformat": 4,
 "nbformat_minor": 4
}
